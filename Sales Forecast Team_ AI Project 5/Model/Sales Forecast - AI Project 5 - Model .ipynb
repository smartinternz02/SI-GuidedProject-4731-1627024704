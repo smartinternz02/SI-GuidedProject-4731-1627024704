{
 "cells": [
  {
   "cell_type": "code",
   "execution_count": 1,
   "id": "a7494b0c",
   "metadata": {},
   "outputs": [],
   "source": [
    "import numpy as np\n",
    "import pandas as pd"
   ]
  },
  {
   "cell_type": "code",
   "execution_count": 2,
   "id": "d1a80fd6",
   "metadata": {},
   "outputs": [],
   "source": [
    "dataset = pd.read_excel('/home/riddhirup/Downloads/Forecasting-Sales-of-a-Store-using-LSTM-main/dataset/Sales_Forecasting.xlsx')"
   ]
  },
  {
   "cell_type": "code",
   "execution_count": 3,
   "id": "26241a01",
   "metadata": {},
   "outputs": [
    {
     "data": {
      "text/html": [
       "<div>\n",
       "<style scoped>\n",
       "    .dataframe tbody tr th:only-of-type {\n",
       "        vertical-align: middle;\n",
       "    }\n",
       "\n",
       "    .dataframe tbody tr th {\n",
       "        vertical-align: top;\n",
       "    }\n",
       "\n",
       "    .dataframe thead th {\n",
       "        text-align: right;\n",
       "    }\n",
       "</style>\n",
       "<table border=\"1\" class=\"dataframe\">\n",
       "  <thead>\n",
       "    <tr style=\"text-align: right;\">\n",
       "      <th></th>\n",
       "      <th>HQ</th>\n",
       "      <th>Country</th>\n",
       "      <th>State_of_outlet</th>\n",
       "      <th>City_of_outlet</th>\n",
       "      <th>Month</th>\n",
       "      <th>Day</th>\n",
       "      <th>Year</th>\n",
       "      <th>Total_Sales</th>\n",
       "    </tr>\n",
       "  </thead>\n",
       "  <tbody>\n",
       "    <tr>\n",
       "      <th>0</th>\n",
       "      <td>Asia</td>\n",
       "      <td>India</td>\n",
       "      <td>NaN</td>\n",
       "      <td>Bombay (Mumbai)</td>\n",
       "      <td>1</td>\n",
       "      <td>1</td>\n",
       "      <td>2005</td>\n",
       "      <td>72.2</td>\n",
       "    </tr>\n",
       "    <tr>\n",
       "      <th>1</th>\n",
       "      <td>Asia</td>\n",
       "      <td>India</td>\n",
       "      <td>NaN</td>\n",
       "      <td>Bombay (Mumbai)</td>\n",
       "      <td>1</td>\n",
       "      <td>2</td>\n",
       "      <td>2005</td>\n",
       "      <td>72.7</td>\n",
       "    </tr>\n",
       "    <tr>\n",
       "      <th>2</th>\n",
       "      <td>Asia</td>\n",
       "      <td>India</td>\n",
       "      <td>NaN</td>\n",
       "      <td>Bombay (Mumbai)</td>\n",
       "      <td>1</td>\n",
       "      <td>3</td>\n",
       "      <td>2005</td>\n",
       "      <td>74.3</td>\n",
       "    </tr>\n",
       "    <tr>\n",
       "      <th>3</th>\n",
       "      <td>Asia</td>\n",
       "      <td>India</td>\n",
       "      <td>NaN</td>\n",
       "      <td>Bombay (Mumbai)</td>\n",
       "      <td>1</td>\n",
       "      <td>4</td>\n",
       "      <td>2005</td>\n",
       "      <td>78.9</td>\n",
       "    </tr>\n",
       "    <tr>\n",
       "      <th>4</th>\n",
       "      <td>Asia</td>\n",
       "      <td>India</td>\n",
       "      <td>NaN</td>\n",
       "      <td>Bombay (Mumbai)</td>\n",
       "      <td>1</td>\n",
       "      <td>5</td>\n",
       "      <td>2005</td>\n",
       "      <td>81.5</td>\n",
       "    </tr>\n",
       "  </tbody>\n",
       "</table>\n",
       "</div>"
      ],
      "text/plain": [
       "     HQ Country  State_of_outlet   City_of_outlet  Month  Day  Year  \\\n",
       "0  Asia   India              NaN  Bombay (Mumbai)      1    1  2005   \n",
       "1  Asia   India              NaN  Bombay (Mumbai)      1    2  2005   \n",
       "2  Asia   India              NaN  Bombay (Mumbai)      1    3  2005   \n",
       "3  Asia   India              NaN  Bombay (Mumbai)      1    4  2005   \n",
       "4  Asia   India              NaN  Bombay (Mumbai)      1    5  2005   \n",
       "\n",
       "   Total_Sales  \n",
       "0         72.2  \n",
       "1         72.7  \n",
       "2         74.3  \n",
       "3         78.9  \n",
       "4         81.5  "
      ]
     },
     "execution_count": 3,
     "metadata": {},
     "output_type": "execute_result"
    }
   ],
   "source": [
    "dataset.head()"
   ]
  },
  {
   "cell_type": "code",
   "execution_count": 4,
   "id": "8436e720",
   "metadata": {},
   "outputs": [
    {
     "data": {
      "text/html": [
       "<div>\n",
       "<style scoped>\n",
       "    .dataframe tbody tr th:only-of-type {\n",
       "        vertical-align: middle;\n",
       "    }\n",
       "\n",
       "    .dataframe tbody tr th {\n",
       "        vertical-align: top;\n",
       "    }\n",
       "\n",
       "    .dataframe thead th {\n",
       "        text-align: right;\n",
       "    }\n",
       "</style>\n",
       "<table border=\"1\" class=\"dataframe\">\n",
       "  <thead>\n",
       "    <tr style=\"text-align: right;\">\n",
       "      <th></th>\n",
       "      <th>State_of_outlet</th>\n",
       "      <th>Month</th>\n",
       "      <th>Day</th>\n",
       "      <th>Year</th>\n",
       "      <th>Total_Sales</th>\n",
       "    </tr>\n",
       "  </thead>\n",
       "  <tbody>\n",
       "    <tr>\n",
       "      <th>count</th>\n",
       "      <td>0.0</td>\n",
       "      <td>17536.000000</td>\n",
       "      <td>17536.000000</td>\n",
       "      <td>17536.000000</td>\n",
       "      <td>17536.000000</td>\n",
       "    </tr>\n",
       "    <tr>\n",
       "      <th>mean</th>\n",
       "      <td>NaN</td>\n",
       "      <td>6.524179</td>\n",
       "      <td>15.732892</td>\n",
       "      <td>2010.502053</td>\n",
       "      <td>80.117963</td>\n",
       "    </tr>\n",
       "    <tr>\n",
       "      <th>std</th>\n",
       "      <td>NaN</td>\n",
       "      <td>3.449400</td>\n",
       "      <td>8.801978</td>\n",
       "      <td>3.452525</td>\n",
       "      <td>13.315486</td>\n",
       "    </tr>\n",
       "    <tr>\n",
       "      <th>min</th>\n",
       "      <td>NaN</td>\n",
       "      <td>1.000000</td>\n",
       "      <td>1.000000</td>\n",
       "      <td>2005.000000</td>\n",
       "      <td>-99.000000</td>\n",
       "    </tr>\n",
       "    <tr>\n",
       "      <th>25%</th>\n",
       "      <td>NaN</td>\n",
       "      <td>4.000000</td>\n",
       "      <td>8.000000</td>\n",
       "      <td>2008.000000</td>\n",
       "      <td>77.500000</td>\n",
       "    </tr>\n",
       "    <tr>\n",
       "      <th>50%</th>\n",
       "      <td>NaN</td>\n",
       "      <td>7.000000</td>\n",
       "      <td>16.000000</td>\n",
       "      <td>2011.000000</td>\n",
       "      <td>82.600000</td>\n",
       "    </tr>\n",
       "    <tr>\n",
       "      <th>75%</th>\n",
       "      <td>NaN</td>\n",
       "      <td>10.000000</td>\n",
       "      <td>23.000000</td>\n",
       "      <td>2014.000000</td>\n",
       "      <td>86.100000</td>\n",
       "    </tr>\n",
       "    <tr>\n",
       "      <th>max</th>\n",
       "      <td>NaN</td>\n",
       "      <td>12.000000</td>\n",
       "      <td>31.000000</td>\n",
       "      <td>2016.000000</td>\n",
       "      <td>102.500000</td>\n",
       "    </tr>\n",
       "  </tbody>\n",
       "</table>\n",
       "</div>"
      ],
      "text/plain": [
       "       State_of_outlet         Month           Day          Year   Total_Sales\n",
       "count              0.0  17536.000000  17536.000000  17536.000000  17536.000000\n",
       "mean               NaN      6.524179     15.732892   2010.502053     80.117963\n",
       "std                NaN      3.449400      8.801978      3.452525     13.315486\n",
       "min                NaN      1.000000      1.000000   2005.000000    -99.000000\n",
       "25%                NaN      4.000000      8.000000   2008.000000     77.500000\n",
       "50%                NaN      7.000000     16.000000   2011.000000     82.600000\n",
       "75%                NaN     10.000000     23.000000   2014.000000     86.100000\n",
       "max                NaN     12.000000     31.000000   2016.000000    102.500000"
      ]
     },
     "execution_count": 4,
     "metadata": {},
     "output_type": "execute_result"
    }
   ],
   "source": [
    "dataset.describe()"
   ]
  },
  {
   "cell_type": "code",
   "execution_count": 5,
   "id": "012e2091",
   "metadata": {},
   "outputs": [],
   "source": [
    "from datetime import datetime\n",
    "dataset['Date'] = dataset.apply(lambda row: datetime.strptime(f\"{int(row.Year)}-{int(row.Month)}-{int(row.Day)}\", '%Y-%m-%d'), axis=1)"
   ]
  },
  {
   "cell_type": "code",
   "execution_count": 6,
   "id": "4ca9d0c5",
   "metadata": {},
   "outputs": [
    {
     "name": "stdout",
     "output_type": "stream",
     "text": [
      "2005-01-01 00:00:00 2016-12-31 00:00:00\n"
     ]
    }
   ],
   "source": [
    "print(dataset['Date'].min(),dataset['Date'].max())"
   ]
  },
  {
   "cell_type": "markdown",
   "id": "5592a279",
   "metadata": {},
   "source": [
    "# Data preprocessing"
   ]
  },
  {
   "cell_type": "code",
   "execution_count": 7,
   "id": "2925cc7d",
   "metadata": {},
   "outputs": [
    {
     "data": {
      "text/html": [
       "<div>\n",
       "<style scoped>\n",
       "    .dataframe tbody tr th:only-of-type {\n",
       "        vertical-align: middle;\n",
       "    }\n",
       "\n",
       "    .dataframe tbody tr th {\n",
       "        vertical-align: top;\n",
       "    }\n",
       "\n",
       "    .dataframe thead th {\n",
       "        text-align: right;\n",
       "    }\n",
       "</style>\n",
       "<table border=\"1\" class=\"dataframe\">\n",
       "  <thead>\n",
       "    <tr style=\"text-align: right;\">\n",
       "      <th></th>\n",
       "      <th>HQ</th>\n",
       "      <th>Country</th>\n",
       "      <th>State_of_outlet</th>\n",
       "      <th>City_of_outlet</th>\n",
       "      <th>Month</th>\n",
       "      <th>Day</th>\n",
       "      <th>Year</th>\n",
       "      <th>Total_Sales</th>\n",
       "      <th>Date</th>\n",
       "    </tr>\n",
       "  </thead>\n",
       "  <tbody>\n",
       "    <tr>\n",
       "      <th>0</th>\n",
       "      <td>Asia</td>\n",
       "      <td>India</td>\n",
       "      <td>NaN</td>\n",
       "      <td>Bombay (Mumbai)</td>\n",
       "      <td>1</td>\n",
       "      <td>1</td>\n",
       "      <td>2005</td>\n",
       "      <td>72.2</td>\n",
       "      <td>2005-01-01</td>\n",
       "    </tr>\n",
       "    <tr>\n",
       "      <th>1</th>\n",
       "      <td>Asia</td>\n",
       "      <td>India</td>\n",
       "      <td>NaN</td>\n",
       "      <td>Bombay (Mumbai)</td>\n",
       "      <td>1</td>\n",
       "      <td>2</td>\n",
       "      <td>2005</td>\n",
       "      <td>72.7</td>\n",
       "      <td>2005-01-02</td>\n",
       "    </tr>\n",
       "    <tr>\n",
       "      <th>2</th>\n",
       "      <td>Asia</td>\n",
       "      <td>India</td>\n",
       "      <td>NaN</td>\n",
       "      <td>Bombay (Mumbai)</td>\n",
       "      <td>1</td>\n",
       "      <td>3</td>\n",
       "      <td>2005</td>\n",
       "      <td>74.3</td>\n",
       "      <td>2005-01-03</td>\n",
       "    </tr>\n",
       "    <tr>\n",
       "      <th>3</th>\n",
       "      <td>Asia</td>\n",
       "      <td>India</td>\n",
       "      <td>NaN</td>\n",
       "      <td>Bombay (Mumbai)</td>\n",
       "      <td>1</td>\n",
       "      <td>4</td>\n",
       "      <td>2005</td>\n",
       "      <td>78.9</td>\n",
       "      <td>2005-01-04</td>\n",
       "    </tr>\n",
       "    <tr>\n",
       "      <th>4</th>\n",
       "      <td>Asia</td>\n",
       "      <td>India</td>\n",
       "      <td>NaN</td>\n",
       "      <td>Bombay (Mumbai)</td>\n",
       "      <td>1</td>\n",
       "      <td>5</td>\n",
       "      <td>2005</td>\n",
       "      <td>81.5</td>\n",
       "      <td>2005-01-05</td>\n",
       "    </tr>\n",
       "    <tr>\n",
       "      <th>...</th>\n",
       "      <td>...</td>\n",
       "      <td>...</td>\n",
       "      <td>...</td>\n",
       "      <td>...</td>\n",
       "      <td>...</td>\n",
       "      <td>...</td>\n",
       "      <td>...</td>\n",
       "      <td>...</td>\n",
       "      <td>...</td>\n",
       "    </tr>\n",
       "    <tr>\n",
       "      <th>17531</th>\n",
       "      <td>Asia</td>\n",
       "      <td>India</td>\n",
       "      <td>NaN</td>\n",
       "      <td>Delhi</td>\n",
       "      <td>12</td>\n",
       "      <td>27</td>\n",
       "      <td>2016</td>\n",
       "      <td>61.3</td>\n",
       "      <td>2016-12-27</td>\n",
       "    </tr>\n",
       "    <tr>\n",
       "      <th>17532</th>\n",
       "      <td>Asia</td>\n",
       "      <td>India</td>\n",
       "      <td>NaN</td>\n",
       "      <td>Delhi</td>\n",
       "      <td>12</td>\n",
       "      <td>28</td>\n",
       "      <td>2016</td>\n",
       "      <td>61.7</td>\n",
       "      <td>2016-12-28</td>\n",
       "    </tr>\n",
       "    <tr>\n",
       "      <th>17533</th>\n",
       "      <td>Asia</td>\n",
       "      <td>India</td>\n",
       "      <td>NaN</td>\n",
       "      <td>Delhi</td>\n",
       "      <td>12</td>\n",
       "      <td>29</td>\n",
       "      <td>2016</td>\n",
       "      <td>59.3</td>\n",
       "      <td>2016-12-29</td>\n",
       "    </tr>\n",
       "    <tr>\n",
       "      <th>17534</th>\n",
       "      <td>Asia</td>\n",
       "      <td>India</td>\n",
       "      <td>NaN</td>\n",
       "      <td>Delhi</td>\n",
       "      <td>12</td>\n",
       "      <td>30</td>\n",
       "      <td>2016</td>\n",
       "      <td>57.1</td>\n",
       "      <td>2016-12-30</td>\n",
       "    </tr>\n",
       "    <tr>\n",
       "      <th>17535</th>\n",
       "      <td>Asia</td>\n",
       "      <td>India</td>\n",
       "      <td>NaN</td>\n",
       "      <td>Delhi</td>\n",
       "      <td>12</td>\n",
       "      <td>31</td>\n",
       "      <td>2016</td>\n",
       "      <td>58.3</td>\n",
       "      <td>2016-12-31</td>\n",
       "    </tr>\n",
       "  </tbody>\n",
       "</table>\n",
       "<p>17536 rows × 9 columns</p>\n",
       "</div>"
      ],
      "text/plain": [
       "         HQ Country  State_of_outlet   City_of_outlet  Month  Day  Year  \\\n",
       "0      Asia   India              NaN  Bombay (Mumbai)      1    1  2005   \n",
       "1      Asia   India              NaN  Bombay (Mumbai)      1    2  2005   \n",
       "2      Asia   India              NaN  Bombay (Mumbai)      1    3  2005   \n",
       "3      Asia   India              NaN  Bombay (Mumbai)      1    4  2005   \n",
       "4      Asia   India              NaN  Bombay (Mumbai)      1    5  2005   \n",
       "...     ...     ...              ...              ...    ...  ...   ...   \n",
       "17531  Asia   India              NaN            Delhi     12   27  2016   \n",
       "17532  Asia   India              NaN            Delhi     12   28  2016   \n",
       "17533  Asia   India              NaN            Delhi     12   29  2016   \n",
       "17534  Asia   India              NaN            Delhi     12   30  2016   \n",
       "17535  Asia   India              NaN            Delhi     12   31  2016   \n",
       "\n",
       "       Total_Sales       Date  \n",
       "0             72.2 2005-01-01  \n",
       "1             72.7 2005-01-02  \n",
       "2             74.3 2005-01-03  \n",
       "3             78.9 2005-01-04  \n",
       "4             81.5 2005-01-05  \n",
       "...            ...        ...  \n",
       "17531         61.3 2016-12-27  \n",
       "17532         61.7 2016-12-28  \n",
       "17533         59.3 2016-12-29  \n",
       "17534         57.1 2016-12-30  \n",
       "17535         58.3 2016-12-31  \n",
       "\n",
       "[17536 rows x 9 columns]"
      ]
     },
     "execution_count": 7,
     "metadata": {},
     "output_type": "execute_result"
    }
   ],
   "source": [
    "dataset"
   ]
  },
  {
   "cell_type": "code",
   "execution_count": 8,
   "id": "6339a93d",
   "metadata": {},
   "outputs": [],
   "source": [
    "dataset.drop(['HQ','Country','State_of_outlet','City_of_outlet','Month','Day','Year'],axis=1,inplace=True)"
   ]
  },
  {
   "cell_type": "code",
   "execution_count": 9,
   "id": "85cba354",
   "metadata": {},
   "outputs": [
    {
     "data": {
      "text/html": [
       "<div>\n",
       "<style scoped>\n",
       "    .dataframe tbody tr th:only-of-type {\n",
       "        vertical-align: middle;\n",
       "    }\n",
       "\n",
       "    .dataframe tbody tr th {\n",
       "        vertical-align: top;\n",
       "    }\n",
       "\n",
       "    .dataframe thead th {\n",
       "        text-align: right;\n",
       "    }\n",
       "</style>\n",
       "<table border=\"1\" class=\"dataframe\">\n",
       "  <thead>\n",
       "    <tr style=\"text-align: right;\">\n",
       "      <th></th>\n",
       "      <th>Total_Sales</th>\n",
       "      <th>Date</th>\n",
       "    </tr>\n",
       "  </thead>\n",
       "  <tbody>\n",
       "    <tr>\n",
       "      <th>0</th>\n",
       "      <td>72.2</td>\n",
       "      <td>2005-01-01</td>\n",
       "    </tr>\n",
       "    <tr>\n",
       "      <th>1</th>\n",
       "      <td>72.7</td>\n",
       "      <td>2005-01-02</td>\n",
       "    </tr>\n",
       "    <tr>\n",
       "      <th>2</th>\n",
       "      <td>74.3</td>\n",
       "      <td>2005-01-03</td>\n",
       "    </tr>\n",
       "    <tr>\n",
       "      <th>3</th>\n",
       "      <td>78.9</td>\n",
       "      <td>2005-01-04</td>\n",
       "    </tr>\n",
       "    <tr>\n",
       "      <th>4</th>\n",
       "      <td>81.5</td>\n",
       "      <td>2005-01-05</td>\n",
       "    </tr>\n",
       "  </tbody>\n",
       "</table>\n",
       "</div>"
      ],
      "text/plain": [
       "   Total_Sales       Date\n",
       "0         72.2 2005-01-01\n",
       "1         72.7 2005-01-02\n",
       "2         74.3 2005-01-03\n",
       "3         78.9 2005-01-04\n",
       "4         81.5 2005-01-05"
      ]
     },
     "execution_count": 9,
     "metadata": {},
     "output_type": "execute_result"
    }
   ],
   "source": [
    "dataset.head()"
   ]
  },
  {
   "cell_type": "code",
   "execution_count": 10,
   "id": "9fa57a45",
   "metadata": {},
   "outputs": [
    {
     "data": {
      "text/html": [
       "<div>\n",
       "<style scoped>\n",
       "    .dataframe tbody tr th:only-of-type {\n",
       "        vertical-align: middle;\n",
       "    }\n",
       "\n",
       "    .dataframe tbody tr th {\n",
       "        vertical-align: top;\n",
       "    }\n",
       "\n",
       "    .dataframe thead th {\n",
       "        text-align: right;\n",
       "    }\n",
       "</style>\n",
       "<table border=\"1\" class=\"dataframe\">\n",
       "  <thead>\n",
       "    <tr style=\"text-align: right;\">\n",
       "      <th></th>\n",
       "      <th>Total_Sales</th>\n",
       "      <th>Date</th>\n",
       "    </tr>\n",
       "  </thead>\n",
       "  <tbody>\n",
       "    <tr>\n",
       "      <th>0</th>\n",
       "      <td>72.2</td>\n",
       "      <td>2005-01-01</td>\n",
       "    </tr>\n",
       "    <tr>\n",
       "      <th>730</th>\n",
       "      <td>75.8</td>\n",
       "      <td>2005-01-01</td>\n",
       "    </tr>\n",
       "    <tr>\n",
       "      <th>1095</th>\n",
       "      <td>61.0</td>\n",
       "      <td>2005-01-01</td>\n",
       "    </tr>\n",
       "    <tr>\n",
       "      <th>365</th>\n",
       "      <td>66.5</td>\n",
       "      <td>2005-01-01</td>\n",
       "    </tr>\n",
       "    <tr>\n",
       "      <th>1</th>\n",
       "      <td>72.7</td>\n",
       "      <td>2005-01-02</td>\n",
       "    </tr>\n",
       "    <tr>\n",
       "      <th>...</th>\n",
       "      <td>...</td>\n",
       "      <td>...</td>\n",
       "    </tr>\n",
       "    <tr>\n",
       "      <th>16802</th>\n",
       "      <td>67.4</td>\n",
       "      <td>2016-12-30</td>\n",
       "    </tr>\n",
       "    <tr>\n",
       "      <th>17169</th>\n",
       "      <td>76.8</td>\n",
       "      <td>2016-12-31</td>\n",
       "    </tr>\n",
       "    <tr>\n",
       "      <th>16437</th>\n",
       "      <td>79.7</td>\n",
       "      <td>2016-12-31</td>\n",
       "    </tr>\n",
       "    <tr>\n",
       "      <th>16803</th>\n",
       "      <td>67.1</td>\n",
       "      <td>2016-12-31</td>\n",
       "    </tr>\n",
       "    <tr>\n",
       "      <th>17535</th>\n",
       "      <td>58.3</td>\n",
       "      <td>2016-12-31</td>\n",
       "    </tr>\n",
       "  </tbody>\n",
       "</table>\n",
       "<p>17536 rows × 2 columns</p>\n",
       "</div>"
      ],
      "text/plain": [
       "       Total_Sales       Date\n",
       "0             72.2 2005-01-01\n",
       "730           75.8 2005-01-01\n",
       "1095          61.0 2005-01-01\n",
       "365           66.5 2005-01-01\n",
       "1             72.7 2005-01-02\n",
       "...            ...        ...\n",
       "16802         67.4 2016-12-30\n",
       "17169         76.8 2016-12-31\n",
       "16437         79.7 2016-12-31\n",
       "16803         67.1 2016-12-31\n",
       "17535         58.3 2016-12-31\n",
       "\n",
       "[17536 rows x 2 columns]"
      ]
     },
     "execution_count": 10,
     "metadata": {},
     "output_type": "execute_result"
    }
   ],
   "source": [
    "dataset.sort_values('Date')"
   ]
  },
  {
   "cell_type": "code",
   "execution_count": 11,
   "id": "d2f779c3",
   "metadata": {},
   "outputs": [
    {
     "data": {
      "text/plain": [
       "Total_Sales     539\n",
       "Date           4383\n",
       "dtype: int64"
      ]
     },
     "execution_count": 11,
     "metadata": {},
     "output_type": "execute_result"
    }
   ],
   "source": [
    "dataset.nunique()"
   ]
  },
  {
   "cell_type": "code",
   "execution_count": 12,
   "id": "9c610ade",
   "metadata": {},
   "outputs": [
    {
     "data": {
      "text/plain": [
       "Total_Sales    False\n",
       "Date           False\n",
       "dtype: bool"
      ]
     },
     "execution_count": 12,
     "metadata": {},
     "output_type": "execute_result"
    }
   ],
   "source": [
    "dataset.isnull().any()"
   ]
  },
  {
   "cell_type": "code",
   "execution_count": 13,
   "id": "eea7a58f",
   "metadata": {},
   "outputs": [],
   "source": [
    "dataset = dataset.groupby('Date')['Total_Sales'].sum().reset_index()"
   ]
  },
  {
   "cell_type": "code",
   "execution_count": 14,
   "id": "19ded47c",
   "metadata": {},
   "outputs": [
    {
     "data": {
      "text/html": [
       "<div>\n",
       "<style scoped>\n",
       "    .dataframe tbody tr th:only-of-type {\n",
       "        vertical-align: middle;\n",
       "    }\n",
       "\n",
       "    .dataframe tbody tr th {\n",
       "        vertical-align: top;\n",
       "    }\n",
       "\n",
       "    .dataframe thead th {\n",
       "        text-align: right;\n",
       "    }\n",
       "</style>\n",
       "<table border=\"1\" class=\"dataframe\">\n",
       "  <thead>\n",
       "    <tr style=\"text-align: right;\">\n",
       "      <th></th>\n",
       "      <th>Date</th>\n",
       "      <th>Total_Sales</th>\n",
       "    </tr>\n",
       "  </thead>\n",
       "  <tbody>\n",
       "    <tr>\n",
       "      <th>0</th>\n",
       "      <td>2005-01-01</td>\n",
       "      <td>275.5</td>\n",
       "    </tr>\n",
       "    <tr>\n",
       "      <th>1</th>\n",
       "      <td>2005-01-02</td>\n",
       "      <td>275.5</td>\n",
       "    </tr>\n",
       "    <tr>\n",
       "      <th>2</th>\n",
       "      <td>2005-01-03</td>\n",
       "      <td>278.6</td>\n",
       "    </tr>\n",
       "    <tr>\n",
       "      <th>3</th>\n",
       "      <td>2005-01-04</td>\n",
       "      <td>279.3</td>\n",
       "    </tr>\n",
       "    <tr>\n",
       "      <th>4</th>\n",
       "      <td>2005-01-05</td>\n",
       "      <td>281.4</td>\n",
       "    </tr>\n",
       "  </tbody>\n",
       "</table>\n",
       "</div>"
      ],
      "text/plain": [
       "        Date  Total_Sales\n",
       "0 2005-01-01        275.5\n",
       "1 2005-01-02        275.5\n",
       "2 2005-01-03        278.6\n",
       "3 2005-01-04        279.3\n",
       "4 2005-01-05        281.4"
      ]
     },
     "execution_count": 14,
     "metadata": {},
     "output_type": "execute_result"
    }
   ],
   "source": [
    "dataset.head()"
   ]
  },
  {
   "cell_type": "code",
   "execution_count": 15,
   "id": "6f0255f4",
   "metadata": {},
   "outputs": [],
   "source": [
    "Sales = dataset.set_index('Date')"
   ]
  },
  {
   "cell_type": "code",
   "execution_count": 16,
   "id": "25411109",
   "metadata": {},
   "outputs": [
    {
     "data": {
      "text/html": [
       "<div>\n",
       "<style scoped>\n",
       "    .dataframe tbody tr th:only-of-type {\n",
       "        vertical-align: middle;\n",
       "    }\n",
       "\n",
       "    .dataframe tbody tr th {\n",
       "        vertical-align: top;\n",
       "    }\n",
       "\n",
       "    .dataframe thead th {\n",
       "        text-align: right;\n",
       "    }\n",
       "</style>\n",
       "<table border=\"1\" class=\"dataframe\">\n",
       "  <thead>\n",
       "    <tr style=\"text-align: right;\">\n",
       "      <th></th>\n",
       "      <th>Total_Sales</th>\n",
       "    </tr>\n",
       "    <tr>\n",
       "      <th>Date</th>\n",
       "      <th></th>\n",
       "    </tr>\n",
       "  </thead>\n",
       "  <tbody>\n",
       "    <tr>\n",
       "      <th>2005-01-01</th>\n",
       "      <td>275.5</td>\n",
       "    </tr>\n",
       "    <tr>\n",
       "      <th>2005-01-02</th>\n",
       "      <td>275.5</td>\n",
       "    </tr>\n",
       "    <tr>\n",
       "      <th>2005-01-03</th>\n",
       "      <td>278.6</td>\n",
       "    </tr>\n",
       "    <tr>\n",
       "      <th>2005-01-04</th>\n",
       "      <td>279.3</td>\n",
       "    </tr>\n",
       "    <tr>\n",
       "      <th>2005-01-05</th>\n",
       "      <td>281.4</td>\n",
       "    </tr>\n",
       "  </tbody>\n",
       "</table>\n",
       "</div>"
      ],
      "text/plain": [
       "            Total_Sales\n",
       "Date                   \n",
       "2005-01-01        275.5\n",
       "2005-01-02        275.5\n",
       "2005-01-03        278.6\n",
       "2005-01-04        279.3\n",
       "2005-01-05        281.4"
      ]
     },
     "execution_count": 16,
     "metadata": {},
     "output_type": "execute_result"
    }
   ],
   "source": [
    "Sales.head()"
   ]
  },
  {
   "cell_type": "code",
   "execution_count": 17,
   "id": "21d26232",
   "metadata": {},
   "outputs": [],
   "source": [
    "Sales_copy = Sales"
   ]
  },
  {
   "cell_type": "code",
   "execution_count": 18,
   "id": "ad168e6c",
   "metadata": {},
   "outputs": [
    {
     "data": {
      "text/plain": [
       "(4383, 1)"
      ]
     },
     "execution_count": 18,
     "metadata": {},
     "output_type": "execute_result"
    }
   ],
   "source": [
    "Sales.shape"
   ]
  },
  {
   "cell_type": "markdown",
   "id": "09cda3b1",
   "metadata": {},
   "source": [
    "# Data Visualization"
   ]
  },
  {
   "cell_type": "code",
   "execution_count": 19,
   "id": "b0f6e84c",
   "metadata": {},
   "outputs": [],
   "source": [
    "import matplotlib.pyplot as plt"
   ]
  },
  {
   "cell_type": "code",
   "execution_count": 20,
   "id": "77b684aa",
   "metadata": {},
   "outputs": [
    {
     "data": {
      "text/plain": [
       "Text(0, 0.5, 'Sales')"
      ]
     },
     "execution_count": 20,
     "metadata": {},
     "output_type": "execute_result"
    },
    {
     "data": {
      "image/png": "[encoded data removed]",
      "text/plain": [
       "<Figure size 432x288 with 1 Axes>"
      ]
     },
     "metadata": {
      "needs_background": "light"
     },
     "output_type": "display_data"
    }
   ],
   "source": [
    "plt.plot(Sales,color=\"red\")\n",
    "plt.xlabel('Days')\n",
    "plt.ylabel('Sales')"
   ]
  },
  {
   "cell_type": "code",
   "execution_count": 21,
   "id": "2a1a477d",
   "metadata": {},
   "outputs": [
    {
     "data": {
      "text/plain": [
       "<AxesSubplot:xlabel='Date'>"
      ]
     },
     "execution_count": 21,
     "metadata": {},
     "output_type": "execute_result"
    },
    {
     "data": {
      "image/png": "[encoded data removed]",
      "text/plain": [
       "<Figure size 1080x432 with 1 Axes>"
      ]
     },
     "metadata": {
      "needs_background": "light"
     },
     "output_type": "display_data"
    }
   ],
   "source": [
    "Sales.plot(figsize=(15,6))"
   ]
  },
  {
   "cell_type": "code",
   "execution_count": 22,
   "id": "4380423b",
   "metadata": {},
   "outputs": [],
   "source": [
    "import tensorflow as tf\n"
   ]
  },
  {
   "cell_type": "code",
   "execution_count": 23,
   "id": "6ba02b04",
   "metadata": {},
   "outputs": [],
   "source": [
    "import keras"
   ]
  },
  {
   "cell_type": "code",
   "execution_count": 24,
   "id": "01dfa54b",
   "metadata": {},
   "outputs": [],
   "source": [
    "from sklearn.preprocessing import MinMaxScaler"
   ]
  },
  {
   "cell_type": "code",
   "execution_count": 25,
   "id": "cd9f39a8",
   "metadata": {},
   "outputs": [],
   "source": [
    "sc=MinMaxScaler(feature_range=(0,1))\n",
    "Sales=sc.fit_transform(np.array(Sales).reshape(-1,1))"
   ]
  },
  {
   "cell_type": "code",
   "execution_count": 26,
   "id": "0a1b94d1",
   "metadata": {},
   "outputs": [
    {
     "data": {
      "text/plain": [
       "(4383, 1)"
      ]
     },
     "execution_count": 26,
     "metadata": {},
     "output_type": "execute_result"
    }
   ],
   "source": [
    "Sales.shape"
   ]
  },
  {
   "cell_type": "code",
   "execution_count": 27,
   "id": "9ae61525",
   "metadata": {},
   "outputs": [
    {
     "data": {
      "text/plain": [
       "array([[0.87264457],\n",
       "       [0.87264457],\n",
       "       [0.87667316],\n",
       "       ...,\n",
       "       [0.88070175],\n",
       "       [0.88109162],\n",
       "       [0.88096166]])"
      ]
     },
     "execution_count": 27,
     "metadata": {},
     "output_type": "execute_result"
    }
   ],
   "source": [
    "Sales"
   ]
  },
  {
   "cell_type": "code",
   "execution_count": 28,
   "id": "f041d33b",
   "metadata": {},
   "outputs": [],
   "source": [
    "train_length = int(len(Sales)*0.7)\n",
    "test_length = len(Sales)-train_length"
   ]
  },
  {
   "cell_type": "code",
   "execution_count": 29,
   "id": "aa8265bf",
   "metadata": {},
   "outputs": [
    {
     "name": "stdout",
     "output_type": "stream",
     "text": [
      "3068 1315\n"
     ]
    }
   ],
   "source": [
    "print(train_length,test_length)"
   ]
  },
  {
   "cell_type": "code",
   "execution_count": 30,
   "id": "750414d3",
   "metadata": {},
   "outputs": [],
   "source": [
    "train_set = Sales[:train_length,:]\n",
    "test_set = Sales[train_length:,:1]"
   ]
  },
  {
   "cell_type": "code",
   "execution_count": 31,
   "id": "2b03df3e",
   "metadata": {},
   "outputs": [
    {
     "data": {
      "text/plain": [
       "(3068, 1)"
      ]
     },
     "execution_count": 31,
     "metadata": {},
     "output_type": "execute_result"
    }
   ],
   "source": [
    "train_set.shape"
   ]
  },
  {
   "cell_type": "code",
   "execution_count": 32,
   "id": "95cf77ed",
   "metadata": {},
   "outputs": [
    {
     "data": {
      "text/plain": [
       "array([[0.87264457],\n",
       "       [0.87264457],\n",
       "       [0.87667316],\n",
       "       ...,\n",
       "       [0.98843405],\n",
       "       [0.99311241],\n",
       "       [0.98843405]])"
      ]
     },
     "execution_count": 32,
     "metadata": {},
     "output_type": "execute_result"
    }
   ],
   "source": [
    "train_set"
   ]
  },
  {
   "cell_type": "code",
   "execution_count": null,
   "id": "15a013b9",
   "metadata": {},
   "outputs": [],
   "source": []
  },
  {
   "cell_type": "code",
   "execution_count": 33,
   "id": "ed73a611",
   "metadata": {},
   "outputs": [],
   "source": [
    "time=10\n",
    "def create_dataset(dataset, time_step):\n",
    "    dataX, dataY = [], []\n",
    "    for i in range(len(dataset)-time_step-1):\n",
    "        a = dataset[i:(i+time_step), 0]    \n",
    "        dataX.append(a)\n",
    "        dataY.append(dataset[i + time_step, 0])\n",
    "    return np.array(dataX), np.array(dataY)\n"
   ]
  },
  {
   "cell_type": "code",
   "execution_count": 34,
   "id": "76137896",
   "metadata": {},
   "outputs": [],
   "source": [
    "time_step = 10\n",
    "X_train, y_train = create_dataset(train_set, time)\n",
    "X_test, ytest = create_dataset(test_set, time)"
   ]
  },
  {
   "cell_type": "code",
   "execution_count": 35,
   "id": "b48db774",
   "metadata": {},
   "outputs": [
    {
     "name": "stdout",
     "output_type": "stream",
     "text": [
      "(3057, 10)\n",
      "(3057,)\n"
     ]
    },
    {
     "data": {
      "text/plain": [
       "(None, None)"
      ]
     },
     "execution_count": 35,
     "metadata": {},
     "output_type": "execute_result"
    }
   ],
   "source": [
    "print(X_train.shape), print(y_train.shape)\n"
   ]
  },
  {
   "cell_type": "code",
   "execution_count": 36,
   "id": "f39b0dc3",
   "metadata": {},
   "outputs": [
    {
     "name": "stdout",
     "output_type": "stream",
     "text": [
      "(1304, 10)\n",
      "(1304,)\n"
     ]
    },
    {
     "data": {
      "text/plain": [
       "(None, None)"
      ]
     },
     "execution_count": 36,
     "metadata": {},
     "output_type": "execute_result"
    }
   ],
   "source": [
    "print(X_test.shape), print(ytest.shape)"
   ]
  },
  {
   "cell_type": "code",
   "execution_count": 37,
   "id": "f73e4161",
   "metadata": {},
   "outputs": [],
   "source": [
    "X_train =X_train.reshape(X_train.shape[0],X_train.shape[1],1)\n",
    "X_test = X_test.reshape(X_test.shape[0],X_test.shape[1],1)"
   ]
  },
  {
   "cell_type": "code",
   "execution_count": 38,
   "id": "aac43ac9",
   "metadata": {},
   "outputs": [],
   "source": [
    "from tensorflow.keras.models import Sequential\n",
    "from tensorflow.keras.layers import Dense\n",
    "from tensorflow.keras.layers import LSTM"
   ]
  },
  {
   "cell_type": "code",
   "execution_count": 39,
   "id": "16cd4837",
   "metadata": {},
   "outputs": [],
   "source": [
    "model=Sequential()\n",
    "model.add(LSTM(50,return_sequences=True,input_shape=(10,1)))\n",
    "model.add(LSTM(75,return_sequences=True))\n",
    "model.add(LSTM(50))\n",
    "model.add(Dense(1))\n",
    "model.compile(loss='mean_squared_error',optimizer='rmsprop')"
   ]
  },
  {
   "cell_type": "code",
   "execution_count": 40,
   "id": "5f78922d",
   "metadata": {},
   "outputs": [
    {
     "name": "stdout",
     "output_type": "stream",
     "text": [
      "Model: \"sequential\"\n",
      "_________________________________________________________________\n",
      "Layer (type)                 Output Shape              Param #   \n",
      "=================================================================\n",
      "lstm (LSTM)                  (None, 10, 50)            10400     \n",
      "_________________________________________________________________\n",
      "lstm_1 (LSTM)                (None, 10, 75)            37800     \n",
      "_________________________________________________________________\n",
      "lstm_2 (LSTM)                (None, 50)                25200     \n",
      "_________________________________________________________________\n",
      "dense (Dense)                (None, 1)                 51        \n",
      "=================================================================\n",
      "Total params: 73,451\n",
      "Trainable params: 73,451\n",
      "Non-trainable params: 0\n",
      "_________________________________________________________________\n"
     ]
    }
   ],
   "source": [
    "model.summary()"
   ]
  },
  {
   "cell_type": "code",
   "execution_count": 41,
   "id": "bd8ec5ce",
   "metadata": {},
   "outputs": [
    {
     "name": "stdout",
     "output_type": "stream",
     "text": [
      "Epoch 1/200\n",
      "48/48 [==============================] - 14s 107ms/step - loss: 0.1227 - val_loss: 0.0101\n",
      "Epoch 2/200\n",
      "48/48 [==============================] - 2s 35ms/step - loss: 0.0093 - val_loss: 0.0069\n",
      "Epoch 3/200\n",
      "48/48 [==============================] - 2s 36ms/step - loss: 0.0079 - val_loss: 0.0108\n",
      "Epoch 4/200\n",
      "48/48 [==============================] - 2s 34ms/step - loss: 0.0055 - val_loss: 0.0072\n",
      "Epoch 5/200\n",
      "48/48 [==============================] - 2s 35ms/step - loss: 0.0052 - val_loss: 0.0067\n",
      "Epoch 6/200\n",
      "48/48 [==============================] - 2s 34ms/step - loss: 0.0045 - val_loss: 0.0057\n",
      "Epoch 7/200\n",
      "48/48 [==============================] - 2s 34ms/step - loss: 0.0051 - val_loss: 0.0038\n",
      "Epoch 8/200\n",
      "48/48 [==============================] - 2s 34ms/step - loss: 0.0030 - val_loss: 0.0048\n",
      "Epoch 9/200\n",
      "48/48 [==============================] - 2s 34ms/step - loss: 0.0033 - val_loss: 0.0098\n",
      "Epoch 10/200\n",
      "48/48 [==============================] - 2s 34ms/step - loss: 0.0038 - val_loss: 0.0044\n",
      "Epoch 11/200\n",
      "48/48 [==============================] - 2s 34ms/step - loss: 0.0024 - val_loss: 0.0038\n",
      "Epoch 12/200\n",
      "48/48 [==============================] - 2s 34ms/step - loss: 0.0030 - val_loss: 0.0044\n",
      "Epoch 13/200\n",
      "48/48 [==============================] - 2s 36ms/step - loss: 0.0030 - val_loss: 0.0055\n",
      "Epoch 14/200\n",
      "48/48 [==============================] - 2s 34ms/step - loss: 0.0032 - val_loss: 0.0042\n",
      "Epoch 15/200\n",
      "48/48 [==============================] - 2s 34ms/step - loss: 0.0032 - val_loss: 0.0041\n",
      "Epoch 16/200\n",
      "48/48 [==============================] - 2s 34ms/step - loss: 0.0026 - val_loss: 0.0039\n",
      "Epoch 17/200\n",
      "48/48 [==============================] - 2s 35ms/step - loss: 0.0029 - val_loss: 0.0038\n",
      "Epoch 18/200\n",
      "48/48 [==============================] - 2s 34ms/step - loss: 0.0027 - val_loss: 0.0044\n",
      "Epoch 19/200\n",
      "48/48 [==============================] - 2s 34ms/step - loss: 0.0037 - val_loss: 0.0037\n",
      "Epoch 20/200\n",
      "48/48 [==============================] - 2s 34ms/step - loss: 0.0028 - val_loss: 0.0042\n",
      "Epoch 21/200\n",
      "48/48 [==============================] - 2s 34ms/step - loss: 0.0021 - val_loss: 0.0038\n",
      "Epoch 22/200\n",
      "48/48 [==============================] - 2s 35ms/step - loss: 0.0043 - val_loss: 0.0037\n",
      "Epoch 23/200\n",
      "48/48 [==============================] - 2s 35ms/step - loss: 0.0025 - val_loss: 0.0041\n",
      "Epoch 24/200\n",
      "48/48 [==============================] - 2s 34ms/step - loss: 0.0026 - val_loss: 0.0043\n",
      "Epoch 25/200\n",
      "48/48 [==============================] - 2s 35ms/step - loss: 0.0024 - val_loss: 0.0037\n",
      "Epoch 26/200\n",
      "48/48 [==============================] - 2s 34ms/step - loss: 0.0022 - val_loss: 0.0045\n",
      "Epoch 27/200\n",
      "48/48 [==============================] - 2s 34ms/step - loss: 0.0030 - val_loss: 0.0073\n",
      "Epoch 28/200\n",
      "48/48 [==============================] - 2s 34ms/step - loss: 0.0023 - val_loss: 0.0037\n",
      "Epoch 29/200\n",
      "48/48 [==============================] - 2s 35ms/step - loss: 0.0029 - val_loss: 0.0037\n",
      "Epoch 30/200\n",
      "48/48 [==============================] - 2s 34ms/step - loss: 0.0036 - val_loss: 0.0051\n",
      "Epoch 31/200\n",
      "48/48 [==============================] - 2s 35ms/step - loss: 0.0024 - val_loss: 0.0040\n",
      "Epoch 32/200\n",
      "48/48 [==============================] - 2s 37ms/step - loss: 0.0026 - val_loss: 0.0046\n",
      "Epoch 33/200\n",
      "48/48 [==============================] - 2s 35ms/step - loss: 0.0027 - val_loss: 0.0040\n",
      "Epoch 34/200\n",
      "48/48 [==============================] - 2s 35ms/step - loss: 0.0027 - val_loss: 0.0044\n",
      "Epoch 35/200\n",
      "48/48 [==============================] - 2s 34ms/step - loss: 0.0027 - val_loss: 0.0035\n",
      "Epoch 36/200\n",
      "48/48 [==============================] - 2s 35ms/step - loss: 0.0018 - val_loss: 0.0047\n",
      "Epoch 37/200\n",
      "48/48 [==============================] - 2s 34ms/step - loss: 0.0030 - val_loss: 0.0036\n",
      "Epoch 38/200\n",
      "48/48 [==============================] - 2s 34ms/step - loss: 0.0025 - val_loss: 0.0060\n",
      "Epoch 39/200\n",
      "48/48 [==============================] - 2s 34ms/step - loss: 0.0031 - val_loss: 0.0046\n",
      "Epoch 40/200\n",
      "48/48 [==============================] - 2s 34ms/step - loss: 0.0025 - val_loss: 0.0037\n",
      "Epoch 41/200\n",
      "48/48 [==============================] - 2s 34ms/step - loss: 0.0024 - val_loss: 0.0035\n",
      "Epoch 42/200\n",
      "48/48 [==============================] - 2s 36ms/step - loss: 0.0028 - val_loss: 0.0039\n",
      "Epoch 43/200\n",
      "48/48 [==============================] - 2s 34ms/step - loss: 0.0026 - val_loss: 0.0034\n",
      "Epoch 44/200\n",
      "48/48 [==============================] - 2s 34ms/step - loss: 0.0022 - val_loss: 0.0037\n",
      "Epoch 45/200\n",
      "48/48 [==============================] - 2s 34ms/step - loss: 0.0022 - val_loss: 0.0038\n",
      "Epoch 46/200\n",
      "48/48 [==============================] - 2s 37ms/step - loss: 0.0027 - val_loss: 0.0044\n",
      "Epoch 47/200\n",
      "48/48 [==============================] - 2s 48ms/step - loss: 0.0027 - val_loss: 0.0038\n",
      "Epoch 48/200\n",
      "48/48 [==============================] - 2s 40ms/step - loss: 0.0031 - val_loss: 0.0040\n",
      "Epoch 49/200\n",
      "48/48 [==============================] - 2s 37ms/step - loss: 0.0027 - val_loss: 0.0037\n",
      "Epoch 50/200\n",
      "48/48 [==============================] - 2s 46ms/step - loss: 0.0018 - val_loss: 0.0052\n",
      "Epoch 51/200\n",
      "48/48 [==============================] - 2s 34ms/step - loss: 0.0026 - val_loss: 0.0038\n",
      "Epoch 52/200\n",
      "48/48 [==============================] - 2s 33ms/step - loss: 0.0020 - val_loss: 0.0040\n",
      "Epoch 53/200\n",
      "48/48 [==============================] - 2s 38ms/step - loss: 0.0021 - val_loss: 0.0036\n",
      "Epoch 54/200\n",
      "48/48 [==============================] - 2s 33ms/step - loss: 0.0022 - val_loss: 0.0042\n",
      "Epoch 55/200\n",
      "48/48 [==============================] - 2s 32ms/step - loss: 0.0019 - val_loss: 0.0036\n",
      "Epoch 56/200\n",
      "48/48 [==============================] - 2s 32ms/step - loss: 0.0031 - val_loss: 0.0036\n",
      "Epoch 57/200\n",
      "48/48 [==============================] - 2s 32ms/step - loss: 0.0023 - val_loss: 0.0034\n",
      "Epoch 58/200\n",
      "48/48 [==============================] - 2s 36ms/step - loss: 0.0027 - val_loss: 0.0044\n",
      "Epoch 59/200\n",
      "48/48 [==============================] - 2s 38ms/step - loss: 0.0026 - val_loss: 0.0039\n",
      "Epoch 60/200\n",
      "48/48 [==============================] - 2s 34ms/step - loss: 0.0025 - val_loss: 0.0036\n",
      "Epoch 61/200\n",
      "48/48 [==============================] - 2s 33ms/step - loss: 0.0029 - val_loss: 0.0033\n",
      "Epoch 62/200\n",
      "48/48 [==============================] - 2s 32ms/step - loss: 0.0028 - val_loss: 0.0036\n",
      "Epoch 63/200\n",
      "48/48 [==============================] - 2s 32ms/step - loss: 0.0023 - val_loss: 0.0034\n",
      "Epoch 64/200\n",
      "48/48 [==============================] - 2s 33ms/step - loss: 0.0029 - val_loss: 0.0039\n",
      "Epoch 65/200\n",
      "48/48 [==============================] - 2s 32ms/step - loss: 0.0024 - val_loss: 0.0036\n",
      "Epoch 66/200\n",
      "48/48 [==============================] - 2s 32ms/step - loss: 0.0014 - val_loss: 0.0039\n",
      "Epoch 67/200\n",
      "48/48 [==============================] - 2s 32ms/step - loss: 0.0017 - val_loss: 0.0033\n",
      "Epoch 68/200\n",
      "48/48 [==============================] - 2s 32ms/step - loss: 0.0019 - val_loss: 0.0039\n",
      "Epoch 69/200\n",
      "48/48 [==============================] - 2s 32ms/step - loss: 0.0019 - val_loss: 0.0034\n",
      "Epoch 70/200\n",
      "48/48 [==============================] - 2s 32ms/step - loss: 0.0020 - val_loss: 0.0036\n",
      "Epoch 71/200\n",
      "48/48 [==============================] - 2s 36ms/step - loss: 0.0026 - val_loss: 0.0034\n",
      "Epoch 72/200\n",
      "48/48 [==============================] - 2s 41ms/step - loss: 0.0027 - val_loss: 0.0033\n",
      "Epoch 73/200\n",
      "48/48 [==============================] - 2s 37ms/step - loss: 0.0028 - val_loss: 0.0032\n",
      "Epoch 74/200\n",
      "48/48 [==============================] - 2s 38ms/step - loss: 0.0015 - val_loss: 0.0043\n",
      "Epoch 75/200\n",
      "48/48 [==============================] - 2s 32ms/step - loss: 0.0026 - val_loss: 0.0039\n",
      "Epoch 76/200\n",
      "48/48 [==============================] - 2s 32ms/step - loss: 0.0022 - val_loss: 0.0035\n",
      "Epoch 77/200\n",
      "48/48 [==============================] - 2s 32ms/step - loss: 0.0014 - val_loss: 0.0033\n",
      "Epoch 78/200\n",
      "48/48 [==============================] - 2s 32ms/step - loss: 0.0017 - val_loss: 0.0033\n",
      "Epoch 79/200\n",
      "48/48 [==============================] - 2s 34ms/step - loss: 0.0020 - val_loss: 0.0032\n",
      "Epoch 80/200\n",
      "48/48 [==============================] - 2s 37ms/step - loss: 0.0021 - val_loss: 0.0035\n",
      "Epoch 81/200\n",
      "48/48 [==============================] - 2s 33ms/step - loss: 0.0020 - val_loss: 0.0035\n",
      "Epoch 82/200\n",
      "48/48 [==============================] - 2s 32ms/step - loss: 0.0021 - val_loss: 0.0042\n",
      "Epoch 83/200\n",
      "48/48 [==============================] - 2s 42ms/step - loss: 0.0016 - val_loss: 0.0032\n",
      "Epoch 84/200\n",
      "48/48 [==============================] - 2s 40ms/step - loss: 0.0024 - val_loss: 0.0041\n",
      "Epoch 85/200\n",
      "48/48 [==============================] - 2s 39ms/step - loss: 0.0030 - val_loss: 0.0047\n",
      "Epoch 86/200\n",
      "48/48 [==============================] - 2s 34ms/step - loss: 0.0022 - val_loss: 0.0032\n",
      "Epoch 87/200\n",
      "48/48 [==============================] - 2s 32ms/step - loss: 0.0017 - val_loss: 0.0041\n",
      "Epoch 88/200\n",
      "48/48 [==============================] - 2s 32ms/step - loss: 0.0014 - val_loss: 0.0052\n",
      "Epoch 89/200\n",
      "48/48 [==============================] - 2s 34ms/step - loss: 0.0019 - val_loss: 0.0031\n",
      "Epoch 90/200\n",
      "48/48 [==============================] - 2s 36ms/step - loss: 0.0021 - val_loss: 0.0037\n",
      "Epoch 91/200\n",
      "48/48 [==============================] - 2s 32ms/step - loss: 0.0013 - val_loss: 0.0031\n",
      "Epoch 92/200\n",
      "48/48 [==============================] - 2s 32ms/step - loss: 0.0014 - val_loss: 0.0035\n",
      "Epoch 93/200\n",
      "48/48 [==============================] - 2s 32ms/step - loss: 0.0019 - val_loss: 0.0032\n",
      "Epoch 94/200\n",
      "48/48 [==============================] - 2s 32ms/step - loss: 0.0024 - val_loss: 0.0034\n",
      "Epoch 95/200\n",
      "48/48 [==============================] - 2s 32ms/step - loss: 0.0017 - val_loss: 0.0032\n",
      "Epoch 96/200\n",
      "48/48 [==============================] - 2s 32ms/step - loss: 0.0015 - val_loss: 0.0034\n",
      "Epoch 97/200\n",
      "48/48 [==============================] - 2s 32ms/step - loss: 0.0021 - val_loss: 0.0050\n",
      "Epoch 98/200\n",
      "48/48 [==============================] - 2s 32ms/step - loss: 0.0017 - val_loss: 0.0034\n",
      "Epoch 99/200\n",
      "48/48 [==============================] - 2s 32ms/step - loss: 0.0027 - val_loss: 0.0035\n",
      "Epoch 100/200\n",
      "48/48 [==============================] - 2s 35ms/step - loss: 0.0022 - val_loss: 0.0031\n",
      "Epoch 101/200\n",
      "48/48 [==============================] - 2s 32ms/step - loss: 0.0014 - val_loss: 0.0033\n",
      "Epoch 102/200\n",
      "48/48 [==============================] - 2s 32ms/step - loss: 0.0018 - val_loss: 0.0042\n",
      "Epoch 103/200\n",
      "48/48 [==============================] - 2s 32ms/step - loss: 0.0022 - val_loss: 0.0038\n",
      "Epoch 104/200\n",
      "48/48 [==============================] - 2s 32ms/step - loss: 0.0027 - val_loss: 0.0032\n",
      "Epoch 105/200\n",
      "48/48 [==============================] - 2s 32ms/step - loss: 0.0015 - val_loss: 0.0033\n",
      "Epoch 106/200\n",
      "48/48 [==============================] - 2s 32ms/step - loss: 0.0013 - val_loss: 0.0032\n",
      "Epoch 107/200\n",
      "48/48 [==============================] - 2s 32ms/step - loss: 0.0014 - val_loss: 0.0032\n",
      "Epoch 108/200\n",
      "48/48 [==============================] - 2s 32ms/step - loss: 0.0015 - val_loss: 0.0033\n",
      "Epoch 109/200\n",
      "48/48 [==============================] - 2s 32ms/step - loss: 0.0020 - val_loss: 0.0033\n",
      "Epoch 110/200\n",
      "48/48 [==============================] - 2s 33ms/step - loss: 0.0030 - val_loss: 0.0036\n",
      "Epoch 111/200\n",
      "48/48 [==============================] - 2s 32ms/step - loss: 0.0023 - val_loss: 0.0035\n",
      "Epoch 112/200\n",
      "48/48 [==============================] - 2s 32ms/step - loss: 0.0019 - val_loss: 0.0032\n",
      "Epoch 113/200\n",
      "48/48 [==============================] - 2s 32ms/step - loss: 0.0016 - val_loss: 0.0033\n",
      "Epoch 114/200\n",
      "48/48 [==============================] - 2s 32ms/step - loss: 0.0026 - val_loss: 0.0031\n",
      "Epoch 115/200\n",
      "48/48 [==============================] - 2s 32ms/step - loss: 0.0022 - val_loss: 0.0036\n",
      "Epoch 116/200\n",
      "48/48 [==============================] - 2s 32ms/step - loss: 0.0012 - val_loss: 0.0031\n",
      "Epoch 117/200\n",
      "48/48 [==============================] - 2s 32ms/step - loss: 0.0014 - val_loss: 0.0032\n",
      "Epoch 118/200\n",
      "48/48 [==============================] - 2s 32ms/step - loss: 0.0025 - val_loss: 0.0043\n",
      "Epoch 119/200\n",
      "48/48 [==============================] - 2s 32ms/step - loss: 0.0017 - val_loss: 0.0033\n",
      "Epoch 120/200\n",
      "48/48 [==============================] - 2s 32ms/step - loss: 0.0013 - val_loss: 0.0031\n",
      "Epoch 121/200\n",
      "48/48 [==============================] - 2s 34ms/step - loss: 0.0015 - val_loss: 0.0032\n",
      "Epoch 122/200\n",
      "48/48 [==============================] - 2s 39ms/step - loss: 0.0022 - val_loss: 0.0032\n",
      "Epoch 123/200\n",
      "48/48 [==============================] - 2s 49ms/step - loss: 0.0019 - val_loss: 0.0032\n",
      "Epoch 124/200\n",
      "48/48 [==============================] - 2s 41ms/step - loss: 0.0017 - val_loss: 0.0030\n",
      "Epoch 125/200\n",
      "48/48 [==============================] - 2s 43ms/step - loss: 0.0036 - val_loss: 0.0032\n",
      "Epoch 126/200\n",
      "48/48 [==============================] - 2s 51ms/step - loss: 0.0026 - val_loss: 0.0034\n",
      "Epoch 127/200\n",
      "48/48 [==============================] - 2s 36ms/step - loss: 0.0013 - val_loss: 0.0030\n",
      "Epoch 128/200\n",
      "48/48 [==============================] - 2s 32ms/step - loss: 0.0012 - val_loss: 0.0043\n",
      "Epoch 129/200\n",
      "48/48 [==============================] - 2s 35ms/step - loss: 0.0023 - val_loss: 0.0032\n",
      "Epoch 130/200\n",
      "48/48 [==============================] - 2s 33ms/step - loss: 0.0016 - val_loss: 0.0035\n",
      "Epoch 131/200\n",
      "48/48 [==============================] - 2s 32ms/step - loss: 0.0020 - val_loss: 0.0033\n",
      "Epoch 132/200\n",
      "48/48 [==============================] - 2s 34ms/step - loss: 0.0017 - val_loss: 0.0035\n",
      "Epoch 133/200\n",
      "48/48 [==============================] - 2s 44ms/step - loss: 0.0019 - val_loss: 0.0033\n",
      "Epoch 134/200\n",
      "48/48 [==============================] - 2s 37ms/step - loss: 0.0034 - val_loss: 0.0037\n",
      "Epoch 135/200\n",
      "48/48 [==============================] - 2s 34ms/step - loss: 0.0016 - val_loss: 0.0030\n",
      "Epoch 136/200\n",
      "48/48 [==============================] - 2s 35ms/step - loss: 0.0017 - val_loss: 0.0030\n",
      "Epoch 137/200\n",
      "48/48 [==============================] - 2s 33ms/step - loss: 0.0017 - val_loss: 0.0030\n",
      "Epoch 138/200\n",
      "48/48 [==============================] - 2s 34ms/step - loss: 0.0026 - val_loss: 0.0030\n",
      "Epoch 139/200\n",
      "48/48 [==============================] - 2s 34ms/step - loss: 0.0014 - val_loss: 0.0031\n",
      "Epoch 140/200\n",
      "48/48 [==============================] - 2s 34ms/step - loss: 0.0020 - val_loss: 0.0030\n",
      "Epoch 141/200\n",
      "48/48 [==============================] - 2s 33ms/step - loss: 0.0014 - val_loss: 0.0030\n",
      "Epoch 142/200\n",
      "48/48 [==============================] - 2s 33ms/step - loss: 0.0015 - val_loss: 0.0052\n",
      "Epoch 143/200\n",
      "48/48 [==============================] - 2s 36ms/step - loss: 0.0024 - val_loss: 0.0036\n",
      "Epoch 144/200\n",
      "48/48 [==============================] - 2s 44ms/step - loss: 0.0017 - val_loss: 0.0030\n",
      "Epoch 145/200\n",
      "48/48 [==============================] - 2s 39ms/step - loss: 0.0018 - val_loss: 0.0030\n",
      "Epoch 146/200\n",
      "48/48 [==============================] - 2s 37ms/step - loss: 0.0016 - val_loss: 0.0034\n",
      "Epoch 147/200\n",
      "48/48 [==============================] - 2s 34ms/step - loss: 0.0025 - val_loss: 0.0030\n",
      "Epoch 148/200\n",
      "48/48 [==============================] - 2s 38ms/step - loss: 0.0013 - val_loss: 0.0031\n",
      "Epoch 149/200\n",
      "48/48 [==============================] - 2s 36ms/step - loss: 0.0022 - val_loss: 0.0032\n",
      "Epoch 150/200\n",
      "48/48 [==============================] - 2s 34ms/step - loss: 0.0013 - val_loss: 0.0046\n",
      "Epoch 151/200\n",
      "48/48 [==============================] - 2s 38ms/step - loss: 0.0033 - val_loss: 0.0029\n",
      "Epoch 152/200\n",
      "48/48 [==============================] - 2s 43ms/step - loss: 0.0025 - val_loss: 0.0033\n",
      "Epoch 153/200\n",
      "48/48 [==============================] - 2s 37ms/step - loss: 0.0015 - val_loss: 0.0030\n",
      "Epoch 154/200\n",
      "48/48 [==============================] - 2s 34ms/step - loss: 0.0014 - val_loss: 0.0031\n",
      "Epoch 155/200\n",
      "48/48 [==============================] - 2s 35ms/step - loss: 0.0011 - val_loss: 0.0045\n",
      "Epoch 156/200\n",
      "48/48 [==============================] - 2s 33ms/step - loss: 0.0026 - val_loss: 0.0030\n",
      "Epoch 157/200\n",
      "48/48 [==============================] - 2s 35ms/step - loss: 0.0015 - val_loss: 0.0030\n",
      "Epoch 158/200\n",
      "48/48 [==============================] - 2s 34ms/step - loss: 0.0017 - val_loss: 0.0030\n",
      "Epoch 159/200\n",
      "48/48 [==============================] - 2s 34ms/step - loss: 0.0014 - val_loss: 0.0030\n",
      "Epoch 160/200\n",
      "48/48 [==============================] - 2s 34ms/step - loss: 0.0021 - val_loss: 0.0032\n",
      "Epoch 161/200\n",
      "48/48 [==============================] - 2s 35ms/step - loss: 0.0017 - val_loss: 0.0030\n",
      "Epoch 162/200\n"
     ]
    },
    {
     "name": "stdout",
     "output_type": "stream",
     "text": [
      "48/48 [==============================] - 2s 33ms/step - loss: 0.0031 - val_loss: 0.0036\n",
      "Epoch 163/200\n",
      "48/48 [==============================] - 2s 34ms/step - loss: 8.8635e-04 - val_loss: 0.0036\n",
      "Epoch 164/200\n",
      "48/48 [==============================] - 2s 34ms/step - loss: 0.0011 - val_loss: 0.0040\n",
      "Epoch 165/200\n",
      "48/48 [==============================] - 2s 36ms/step - loss: 0.0013 - val_loss: 0.0032\n",
      "Epoch 166/200\n",
      "48/48 [==============================] - 2s 39ms/step - loss: 0.0018 - val_loss: 0.0030\n",
      "Epoch 167/200\n",
      "48/48 [==============================] - 2s 34ms/step - loss: 0.0011 - val_loss: 0.0042\n",
      "Epoch 168/200\n",
      "48/48 [==============================] - 2s 32ms/step - loss: 0.0021 - val_loss: 0.0029\n",
      "Epoch 169/200\n",
      "48/48 [==============================] - 2s 33ms/step - loss: 0.0032 - val_loss: 0.0029\n",
      "Epoch 170/200\n",
      "48/48 [==============================] - 2s 35ms/step - loss: 0.0011 - val_loss: 0.0030\n",
      "Epoch 171/200\n",
      "48/48 [==============================] - 2s 37ms/step - loss: 0.0023 - val_loss: 0.0029\n",
      "Epoch 172/200\n",
      "48/48 [==============================] - 2s 32ms/step - loss: 0.0016 - val_loss: 0.0031\n",
      "Epoch 173/200\n",
      "48/48 [==============================] - 2s 33ms/step - loss: 0.0018 - val_loss: 0.0029\n",
      "Epoch 174/200\n",
      "48/48 [==============================] - 2s 33ms/step - loss: 0.0015 - val_loss: 0.0030\n",
      "Epoch 175/200\n",
      "48/48 [==============================] - 2s 33ms/step - loss: 0.0022 - val_loss: 0.0039\n",
      "Epoch 176/200\n",
      "48/48 [==============================] - 2s 34ms/step - loss: 0.0020 - val_loss: 0.0039\n",
      "Epoch 177/200\n",
      "48/48 [==============================] - 2s 36ms/step - loss: 0.0023 - val_loss: 0.0035\n",
      "Epoch 178/200\n",
      "48/48 [==============================] - 2s 33ms/step - loss: 0.0016 - val_loss: 0.0032\n",
      "Epoch 179/200\n",
      "48/48 [==============================] - 2s 33ms/step - loss: 0.0020 - val_loss: 0.0029\n",
      "Epoch 180/200\n",
      "48/48 [==============================] - 2s 33ms/step - loss: 0.0014 - val_loss: 0.0031\n",
      "Epoch 181/200\n",
      "48/48 [==============================] - 2s 32ms/step - loss: 0.0032 - val_loss: 0.0029\n",
      "Epoch 182/200\n",
      "48/48 [==============================] - 2s 33ms/step - loss: 0.0016 - val_loss: 0.0030\n",
      "Epoch 183/200\n",
      "48/48 [==============================] - 2s 32ms/step - loss: 0.0015 - val_loss: 0.0030\n",
      "Epoch 184/200\n",
      "48/48 [==============================] - 2s 33ms/step - loss: 0.0015 - val_loss: 0.0029\n",
      "Epoch 185/200\n",
      "48/48 [==============================] - 2s 33ms/step - loss: 0.0011 - val_loss: 0.0029\n",
      "Epoch 186/200\n",
      "48/48 [==============================] - 2s 34ms/step - loss: 0.0012 - val_loss: 0.0029\n",
      "Epoch 187/200\n",
      "48/48 [==============================] - 2s 40ms/step - loss: 0.0015 - val_loss: 0.0029\n",
      "Epoch 188/200\n",
      "48/48 [==============================] - 2s 33ms/step - loss: 0.0012 - val_loss: 0.0029\n",
      "Epoch 189/200\n",
      "48/48 [==============================] - 2s 33ms/step - loss: 0.0021 - val_loss: 0.0029\n",
      "Epoch 190/200\n",
      "48/48 [==============================] - 2s 35ms/step - loss: 0.0011 - val_loss: 0.0030\n",
      "Epoch 191/200\n",
      "48/48 [==============================] - 2s 37ms/step - loss: 0.0011 - val_loss: 0.0031\n",
      "Epoch 192/200\n",
      "48/48 [==============================] - 2s 35ms/step - loss: 0.0016 - val_loss: 0.0029\n",
      "Epoch 193/200\n",
      "48/48 [==============================] - 2s 36ms/step - loss: 0.0013 - val_loss: 0.0029\n",
      "Epoch 194/200\n",
      "48/48 [==============================] - 2s 34ms/step - loss: 0.0015 - val_loss: 0.0030\n",
      "Epoch 195/200\n",
      "48/48 [==============================] - 2s 37ms/step - loss: 0.0023 - val_loss: 0.0029\n",
      "Epoch 196/200\n",
      "48/48 [==============================] - 2s 37ms/step - loss: 0.0011 - val_loss: 0.0029\n",
      "Epoch 197/200\n",
      "48/48 [==============================] - 2s 37ms/step - loss: 0.0030 - val_loss: 0.0043\n",
      "Epoch 198/200\n",
      "48/48 [==============================] - 2s 33ms/step - loss: 0.0018 - val_loss: 0.0031\n",
      "Epoch 199/200\n",
      "48/48 [==============================] - 2s 32ms/step - loss: 0.0026 - val_loss: 0.0034\n",
      "Epoch 200/200\n",
      "48/48 [==============================] - 2s 32ms/step - loss: 0.0012 - val_loss: 0.0029\n"
     ]
    },
    {
     "data": {
      "text/plain": [
       "<tensorflow.python.keras.callbacks.History at 0x7f3eb8608bb0>"
      ]
     },
     "execution_count": 41,
     "metadata": {},
     "output_type": "execute_result"
    }
   ],
   "source": [
    "model.fit(X_train,y_train,validation_data=(X_test,ytest),epochs=200,batch_size=64,verbose=1)"
   ]
  },
  {
   "cell_type": "code",
   "execution_count": 42,
   "id": "d7e8423a",
   "metadata": {},
   "outputs": [],
   "source": [
    "train_pred=model.predict(X_train)\n",
    "test_pred=model.predict(X_test)\n",
    "train_pred=sc.inverse_transform(train_pred)\n",
    "test_pred=sc.inverse_transform(test_pred)"
   ]
  },
  {
   "cell_type": "code",
   "execution_count": 43,
   "id": "0b822bb2",
   "metadata": {},
   "outputs": [],
   "source": [
    "ypred = model.predict(X_test,batch_size=1)"
   ]
  },
  {
   "cell_type": "code",
   "execution_count": 44,
   "id": "800a1d9b",
   "metadata": {},
   "outputs": [
    {
     "data": {
      "text/plain": [
       "array([0.96920078, 0.96556205, 0.96842105, 0.97063028, 0.96556205,\n",
       "       0.9597141 ])"
      ]
     },
     "execution_count": 44,
     "metadata": {},
     "output_type": "execute_result"
    }
   ],
   "source": [
    "ytest[0:6]"
   ]
  },
  {
   "cell_type": "code",
   "execution_count": 45,
   "id": "115f4709",
   "metadata": {},
   "outputs": [
    {
     "data": {
      "text/plain": [
       "array([[0.96184677],\n",
       "       [0.95709896],\n",
       "       [0.953573  ],\n",
       "       [0.9513759 ],\n",
       "       [0.95182276],\n",
       "       [0.9509538 ]], dtype=float32)"
      ]
     },
     "execution_count": 45,
     "metadata": {},
     "output_type": "execute_result"
    }
   ],
   "source": [
    "ypred[0:6]"
   ]
  },
  {
   "cell_type": "code",
   "execution_count": 46,
   "id": "d268f472",
   "metadata": {},
   "outputs": [
    {
     "data": {
      "text/plain": [
       "316.73527277126885"
      ]
     },
     "execution_count": 46,
     "metadata": {},
     "output_type": "execute_result"
    }
   ],
   "source": [
    "import math\n",
    "from sklearn.metrics import mean_squared_error\n",
    "math.sqrt(mean_squared_error(y_train,train_pred))"
   ]
  },
  {
   "cell_type": "code",
   "execution_count": 47,
   "id": "d7cf5798",
   "metadata": {},
   "outputs": [
    {
     "data": {
      "text/plain": [
       "319.6223405621397"
      ]
     },
     "execution_count": 47,
     "metadata": {},
     "output_type": "execute_result"
    }
   ],
   "source": [
    "math.sqrt(mean_squared_error(ytest,test_pred))"
   ]
  },
  {
   "cell_type": "code",
   "execution_count": 48,
   "id": "401f6cf0",
   "metadata": {},
   "outputs": [
    {
     "data": {
      "image/png": "[encoded data removed]",
      "text/plain": [
       "<Figure size 432x288 with 1 Axes>"
      ]
     },
     "metadata": {
      "needs_background": "light"
     },
     "output_type": "display_data"
    }
   ],
   "source": [
    "look_back=10\n",
    "Train_Predict_Plot = np.empty_like(Sales)\n",
    "Train_Predict_Plot[:, :] = np.nan\n",
    "Train_Predict_Plot[look_back:len(train_pred)+look_back, :] = train_pred\n",
    "Test_Predict_Plot = np.empty_like(Sales)\n",
    "Test_Predict_Plot[:, :] = np.nan\n",
    "Test_Predict_Plot[len(train_pred)+(look_back*2)+1:len(Sales)-1, :] = test_pred\n",
    "plt.plot(sc.inverse_transform(Sales))\n",
    "plt.plot(Train_Predict_Plot)\n",
    "plt.plot(Test_Predict_Plot)\n",
    "plt.show()"
   ]
  },
  {
   "cell_type": "code",
   "execution_count": 49,
   "id": "48a444c4",
   "metadata": {},
   "outputs": [],
   "source": [
    "model.save(\"Sales_Prediction_Forecast.h5\")"
   ]
  },
  {
   "cell_type": "code",
   "execution_count": 50,
   "id": "2d92fca6",
   "metadata": {},
   "outputs": [
    {
     "data": {
      "text/plain": [
       "['scaler']"
      ]
     },
     "execution_count": 50,
     "metadata": {},
     "output_type": "execute_result"
    }
   ],
   "source": [
    "import joblib\n",
    "joblib.dump(sc,\"scaler\")"
   ]
  },
  {
   "cell_type": "code",
   "execution_count": null,
   "id": "49a791b9",
   "metadata": {},
   "outputs": [],
   "source": []
  }
 ],
 "metadata": {
  "kernelspec": {
   "display_name": "Python 3",
   "language": "python",
   "name": "python3"
  },
  "language_info": {
   "codemirror_mode": {
    "name": "ipython",
    "version": 3
   },
   "file_extension": ".py",
   "mimetype": "text/x-python",
   "name": "python",
   "nbconvert_exporter": "python",
   "pygments_lexer": "ipython3",
   "version": "3.9.5"
  }
 },
 "nbformat": 4,
 "nbformat_minor": 5
}
